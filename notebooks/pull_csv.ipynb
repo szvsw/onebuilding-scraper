{
 "cells": [
  {
   "cell_type": "code",
   "execution_count": 6,
   "metadata": {},
   "outputs": [],
   "source": [
    "import asyncio\n",
    "import json\n",
    "\n",
    "import httpx\n",
    "import pandas as pd\n",
    "from tqdm.notebook import tqdm\n",
    "\n",
    "from onebuilding_scraper.utils import (\n",
    "    download_zip_and_unzip,\n",
    "    generate_paths,\n",
    "    make_row_dict,\n",
    ")\n",
    "\n",
    "root_url = \"https://climate.onebuilding.org\"\n",
    "# configure pool timeouts since max_connections is set to 10 and some requests may take a while\n",
    "pool_timeout = httpx.Timeout(10.0, pool=10800)\n",
    "client = httpx.AsyncClient(base_url=root_url, limits=httpx.Limits(max_connections=10))\n"
   ]
  },
  {
   "cell_type": "code",
   "execution_count": 7,
   "metadata": {},
   "outputs": [
    {
     "name": "stderr",
     "output_type": "stream",
     "text": [
      "100%|██████████| 7/7 [00:00<00:00, 66.94it/s]\n",
      "100%|██████████| 263/263 [00:09<00:00, 27.37it/s]\n"
     ]
    }
   ],
   "source": [
    "fetch = True\n",
    "if fetch:\n",
    "    files = await generate_paths(client)\n",
    "    with open(\"paths.json\", \"w\") as f:\n",
    "        json.dump(sorted(files), f, indent=4)\n",
    "else:\n",
    "    with open(\"paths.json\") as f:\n",
    "        files = json.load(f)"
   ]
  },
  {
   "cell_type": "code",
   "execution_count": 3,
   "metadata": {},
   "outputs": [
    {
     "data": {
      "application/vnd.jupyter.widget-view+json": {
       "model_id": "cde931947d8a437c9efe220b1c51100d",
       "version_major": 2,
       "version_minor": 0
      },
      "text/plain": [
       "  0%|          | 0/87 [00:00<?, ?it/s]"
      ]
     },
     "metadata": {},
     "output_type": "display_data"
    },
    {
     "name": "stdout",
     "output_type": "stream",
     "text": [
      "Errors: 0, Pulled: 1000, Other: 0\n",
      "Errors: 0, Pulled: 1000, Other: 0\n",
      "Errors: 0, Pulled: 1000, Other: 0\n",
      "Errors: 0, Pulled: 1000, Other: 0\n",
      "Errors: 0, Pulled: 1000, Other: 0\n",
      "Errors: 0, Pulled: 1000, Other: 0\n",
      "Errors: 0, Pulled: 1000, Other: 0\n",
      "Errors: 0, Pulled: 988, Other: 12\n",
      "Errors: 0, Pulled: 993, Other: 7\n",
      "Errors: 0, Pulled: 990, Other: 10\n",
      "Errors: 0, Pulled: 987, Other: 13\n",
      "Errors: 0, Pulled: 982, Other: 18\n",
      "Errors: 0, Pulled: 996, Other: 4\n",
      "Errors: 0, Pulled: 990, Other: 10\n",
      "Errors: 0, Pulled: 982, Other: 18\n",
      "Errors: 1, Pulled: 997, Other: 2\n",
      "Errors: 1, Pulled: 995, Other: 4\n",
      "Errors: 0, Pulled: 988, Other: 12\n",
      "Errors: 0, Pulled: 997, Other: 3\n",
      "Errors: 0, Pulled: 988, Other: 12\n",
      "Errors: 1, Pulled: 991, Other: 8\n",
      "Errors: 0, Pulled: 1000, Other: 0\n",
      "Errors: 0, Pulled: 1000, Other: 0\n",
      "Errors: 0, Pulled: 1000, Other: 0\n",
      "Errors: 45, Pulled: 945, Other: 10\n",
      "Errors: 0, Pulled: 997, Other: 3\n",
      "Errors: 0, Pulled: 997, Other: 3\n",
      "Errors: 0, Pulled: 997, Other: 3\n",
      "Errors: 0, Pulled: 1000, Other: 0\n",
      "Errors: 0, Pulled: 998, Other: 2\n",
      "Errors: 0, Pulled: 999, Other: 1\n",
      "Errors: 0, Pulled: 1000, Other: 0\n",
      "Errors: 0, Pulled: 1000, Other: 0\n",
      "Errors: 0, Pulled: 1000, Other: 0\n",
      "Errors: 0, Pulled: 1000, Other: 0\n",
      "Errors: 0, Pulled: 1000, Other: 0\n",
      "Errors: 16, Pulled: 973, Other: 11\n",
      "Errors: 0, Pulled: 1000, Other: 0\n",
      "Errors: 0, Pulled: 1000, Other: 0\n",
      "Errors: 0, Pulled: 1000, Other: 0\n",
      "Errors: 0, Pulled: 1000, Other: 0\n",
      "Errors: 0, Pulled: 1000, Other: 0\n",
      "Errors: 0, Pulled: 1000, Other: 0\n",
      "Errors: 9, Pulled: 991, Other: 0\n",
      "Errors: 0, Pulled: 1000, Other: 0\n",
      "Errors: 0, Pulled: 1000, Other: 0\n",
      "Errors: 0, Pulled: 1000, Other: 0\n",
      "Errors: 1, Pulled: 999, Other: 0\n",
      "Errors: 0, Pulled: 1000, Other: 0\n",
      "Errors: 33, Pulled: 967, Other: 0\n",
      "Errors: 0, Pulled: 1000, Other: 0\n",
      "Errors: 149, Pulled: 851, Other: 0\n",
      "Errors: 8, Pulled: 992, Other: 0\n",
      "Errors: 39, Pulled: 961, Other: 0\n",
      "Errors: 0, Pulled: 1000, Other: 0\n",
      "Errors: 0, Pulled: 1000, Other: 0\n",
      "Errors: 0, Pulled: 1000, Other: 0\n",
      "Errors: 0, Pulled: 1000, Other: 0\n",
      "Errors: 0, Pulled: 1000, Other: 0\n",
      "Errors: 0, Pulled: 1000, Other: 0\n",
      "Errors: 0, Pulled: 1000, Other: 0\n",
      "Errors: 0, Pulled: 1000, Other: 0\n",
      "Errors: 0, Pulled: 1000, Other: 0\n",
      "Errors: 0, Pulled: 1000, Other: 0\n",
      "Errors: 0, Pulled: 1000, Other: 0\n",
      "Errors: 0, Pulled: 1000, Other: 0\n",
      "Errors: 0, Pulled: 1000, Other: 0\n",
      "Errors: 0, Pulled: 1000, Other: 0\n",
      "Errors: 0, Pulled: 1000, Other: 0\n",
      "Errors: 0, Pulled: 1000, Other: 0\n",
      "Errors: 0, Pulled: 1000, Other: 0\n",
      "Errors: 45, Pulled: 955, Other: 0\n",
      "Errors: 26, Pulled: 974, Other: 0\n",
      "Errors: 0, Pulled: 1000, Other: 0\n",
      "Errors: 15, Pulled: 985, Other: 0\n",
      "Errors: 1, Pulled: 999, Other: 0\n",
      "Errors: 0, Pulled: 1000, Other: 0\n",
      "Errors: 0, Pulled: 1000, Other: 0\n",
      "Errors: 0, Pulled: 1000, Other: 0\n",
      "Errors: 0, Pulled: 1000, Other: 0\n",
      "Errors: 0, Pulled: 1000, Other: 0\n",
      "Errors: 0, Pulled: 1000, Other: 0\n",
      "Errors: 0, Pulled: 1000, Other: 0\n",
      "Errors: 0, Pulled: 1000, Other: 0\n",
      "Errors: 0, Pulled: 1000, Other: 0\n",
      "Errors: 0, Pulled: 1000, Other: 0\n",
      "Errors: 0, Pulled: 361, Other: 0\n"
     ]
    }
   ],
   "source": [
    "hop_size = 1000\n",
    "all_exit_codes = []\n",
    "for ix in tqdm(range(0, len(files), hop_size)):\n",
    "    exit_codes = [\n",
    "        e\n",
    "        for e in await asyncio.gather(*[\n",
    "            download_zip_and_unzip(file) for file in files[ix : ix + hop_size]\n",
    "        ])\n",
    "    ]\n",
    "    all_exit_codes.extend(exit_codes)\n",
    "    errors_fetching = len([e for e in exit_codes if e[0] == -1])\n",
    "    pulled = len([e for e in exit_codes if e[0] == 0])\n",
    "    other = len([e for e in exit_codes if e[0] != 0 and e[0] != -1])\n",
    "    print(f\"Errors: {errors_fetching}, Pulled: {pulled}, Other: {other}\")"
   ]
  },
  {
   "cell_type": "code",
   "execution_count": 4,
   "metadata": {},
   "outputs": [
    {
     "data": {
      "text/plain": [
       "556"
      ]
     },
     "execution_count": 4,
     "metadata": {},
     "output_type": "execute_result"
    }
   ],
   "source": [
    "count = 0\n",
    "for e in all_exit_codes:\n",
    "    if e[0] != 0:\n",
    "        count += 1\n",
    "count"
   ]
  },
  {
   "cell_type": "code",
   "execution_count": 5,
   "metadata": {},
   "outputs": [
    {
     "data": {
      "application/vnd.jupyter.widget-view+json": {
       "model_id": "a507d0f4cf4a487180a83c7ce8f9cf0a",
       "version_major": 2,
       "version_minor": 0
      },
      "text/plain": [
       "  0%|          | 0/86361 [00:00<?, ?it/s]"
      ]
     },
     "metadata": {},
     "output_type": "display_data"
    }
   ],
   "source": [
    "all_rows = []\n",
    "for i, e in tqdm(enumerate(all_exit_codes), total=len(all_exit_codes)):\n",
    "    if e[0] == 0:\n",
    "        try:\n",
    "            all_rows.append(make_row_dict(e[1]))\n",
    "        except Exception as e:\n",
    "            pass\n",
    "    if i % 1000:\n",
    "        df = pd.DataFrame(all_rows)\n",
    "        # df.to_csv(\"epw_metadata.csv\", index=False)"
   ]
  },
  {
   "cell_type": "code",
   "execution_count": 6,
   "metadata": {},
   "outputs": [],
   "source": [
    "df.to_csv(\"epw_metadata_wkt.csv\", index=False)"
   ]
  }
 ],
 "metadata": {
  "kernelspec": {
   "display_name": ".venv",
   "language": "python",
   "name": "python3"
  },
  "language_info": {
   "codemirror_mode": {
    "name": "ipython",
    "version": 3
   },
   "file_extension": ".py",
   "mimetype": "text/x-python",
   "name": "python",
   "nbconvert_exporter": "python",
   "pygments_lexer": "ipython3",
   "version": "3.10.9"
  }
 },
 "nbformat": 4,
 "nbformat_minor": 2
}
